{
 "cells": [
  {
   "cell_type": "code",
   "execution_count": null,
   "id": "silver-donor",
   "metadata": {},
   "outputs": [],
   "source": [
    "from datetime import date\n",
    "\n",
    "import stats\n",
    "import sicris\n",
    "import doctoral_mentors"
   ]
  },
  {
   "cell_type": "code",
   "execution_count": null,
   "id": "military-rugby",
   "metadata": {},
   "outputs": [],
   "source": [
    "date_prefix = date.today().isoformat()\n",
    "print('Archiving new doctoral_mentors data with timestamp prefix:', date_prefix)"
   ]
  },
  {
   "cell_type": "markdown",
   "id": "automotive-uganda",
   "metadata": {},
   "source": [
    "Requirements for mentors at UL:\n",
    "\n",
    "* Article 32, [doctoral studies rules](https://www.uni-lj.si/mma/prdr21/2021033113243049/):\n",
    "\n",
    "> Mentorstvo\n",
    "> \n",
    "> 32. člen\n",
    ">  \n",
    "> Mentor in somentor na doktorskem študiju je visokošolski učitelj UL z nazivom docent, izredni ali redni profesor oziroma znanstveni delavec z nazivom znanstveni sodelavec, višji znanstveni sodelavec ali znanstveni svetnik in ima izkazano raziskovalno aktivnost z ustrezno bibliografijo s širšega področja teme doktorske disertacije. Minimalni pogoj za izkazovanje raziskovalne aktivnosti mentorja in somentorja je določen s sklepom Senata UL, ki je objavljen na spletni strani Doktorske šole UL.\n",
    "\n",
    "* Sklep Senata UL o minimalnih pogojih za izkazovanje raziskovalne aktivnosti, [rule](https://www.uni-lj.si/mma/sklep_pogoji_19/2019013012384769/):\n",
    "\n",
    "> ... zadnjih petih letih doseže 150 Z točk po SICRIS in <b>hkrati doseže več kot 0 točk pri kazalcu pomembnih dosežkov A1/2.\n"
   ]
  },
  {
   "cell_type": "code",
   "execution_count": null,
   "id": "hidden-teacher",
   "metadata": {},
   "outputs": [],
   "source": [
    "researchers = sicris.get()\n",
    "mentors = doctoral_mentors.get()"
   ]
  },
  {
   "cell_type": "code",
   "execution_count": null,
   "id": "attended-penny",
   "metadata": {
    "scrolled": false
   },
   "outputs": [],
   "source": [
    "for rid, v in researchers.items():\n",
    "    firstname = v['FNAME']\n",
    "    lastname = v['LNAME']\n",
    "    titles = set([d.get('RSRTTL', '').strip() for d in v['EMPLOY']])\n",
    "    titles_codes = set([d.get('RSRTTLCODE', '').strip() for d in v['EMPLOY']])\n",
    "    if 'RECAPITUALITION' not in v:\n",
    "        Z = 0.0\n",
    "        A12 = 0.0\n",
    "    else:\n",
    "        Z = float(v['RECAPITUALITION'][0]['Z'].replace(',', '.'))\n",
    "        A12 = float(v['RECAPITUALITION'][0]['A12'].replace(',', '.'))\n",
    "    \n",
    "    if Z >= 150 and A12 > 0:\n",
    "        eligible = len(titles_codes & set(['34', '35', '36', '4'])) > 0\n",
    "        if mentors.get(rid, {}).get('manual_eligibility_override', False) == False and not eligible:\n",
    "            print('need to check manually:', eligible, rid, firstname, lastname, Z, A12, titles, titles_codes)\n",
    "    else:\n",
    "        eligible = False       \n",
    "\n",
    "    rec = {\n",
    "        'firstname': firstname,\n",
    "        'lastname': lastname,\n",
    "        'titles': \", \".join(sorted(titles)),\n",
    "        'Z': Z,\n",
    "        'A12': A12,\n",
    "        'eligible': eligible\n",
    "    }\n",
    "\n",
    "    if rid in mentors:\n",
    "        for k, v in rec.items():  \n",
    "            mentors[rid][k] = v  # update\n",
    "    else:\n",
    "        mentors[rid] = rec"
   ]
  },
  {
   "cell_type": "code",
   "execution_count": null,
   "id": "worst-concrete",
   "metadata": {},
   "outputs": [],
   "source": [
    "doctoral_mentors.update(mentors)"
   ]
  },
  {
   "cell_type": "code",
   "execution_count": null,
   "id": "weighted-buffer",
   "metadata": {},
   "outputs": [],
   "source": [
    "eligible_mentors = len([m for m in mentors.values() if m['eligible'] or m.get('manual_eligibility_override', False)])\n",
    "print('Eligible doctoral mentors:', eligible_mentors)"
   ]
  },
  {
   "cell_type": "code",
   "execution_count": null,
   "id": "electric-tokyo",
   "metadata": {},
   "outputs": [],
   "source": [
    "stats.update('doctoral_mentors', eligible_mentors, date_prefix)"
   ]
  },
  {
   "cell_type": "code",
   "execution_count": null,
   "id": "monetary-speech",
   "metadata": {},
   "outputs": [],
   "source": [
    "print('DONE')"
   ]
  }
 ],
 "metadata": {
  "kernelspec": {
   "display_name": "Python 3",
   "language": "python",
   "name": "python3"
  },
  "language_info": {
   "codemirror_mode": {
    "name": "ipython",
    "version": 3
   },
   "file_extension": ".py",
   "mimetype": "text/x-python",
   "name": "python",
   "nbconvert_exporter": "python",
   "pygments_lexer": "ipython3",
   "version": "3.8.6"
  }
 },
 "nbformat": 4,
 "nbformat_minor": 5
}
