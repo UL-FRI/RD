{
 "cells": [
  {
   "cell_type": "code",
   "execution_count": null,
   "metadata": {},
   "outputs": [],
   "source": [
    "import time\n",
    "import json\n",
    "from datetime import date\n",
    "\n",
    "import mechanicalsoup\n",
    "import stats\n",
    "import sicris"
   ]
  },
  {
   "cell_type": "code",
   "execution_count": null,
   "metadata": {},
   "outputs": [],
   "source": [
    "date_prefix = date.today().isoformat()\n",
    "print('Archiving new sicris.json data with timestamp prefix:', date_prefix)"
   ]
  },
  {
   "cell_type": "code",
   "execution_count": null,
   "metadata": {},
   "outputs": [],
   "source": [
    "def get_researchers_ids(oid):\n",
    "    org_url = 'http://www.sicris.si/public/jqm/search_basic/slv/2/500/search/org/{:s}'.format(oid)\n",
    "    print(oid, org_url)\n",
    "\n",
    "    browser = mechanicalsoup.StatefulBrowser()\n",
    "    browser.open(org_url)\n",
    "    links = browser.links(link_text='English')\n",
    "    browser.follow_link(links[0])\n",
    "    links = browser.links(link_text='Slovene')\n",
    "    browser.follow_link(links[0])\n",
    "\n",
    "    links = browser.links(link_text='{JSON}')\n",
    "    browser.follow_link(links[0])\n",
    "\n",
    "    page = browser.get_current_page()\n",
    "    researchers = json.loads(page.text)\n",
    "    assert len(researchers) == 1\n",
    "    researchers = researchers[0]\n",
    "    researchers = researchers['EMPLOY']\n",
    "    researchers = [r['MSTID'] for r in researchers]\n",
    "    return researchers"
   ]
  },
  {
   "cell_type": "code",
   "execution_count": null,
   "metadata": {},
   "outputs": [],
   "source": [
    "researchers = get_researchers_ids('1539')"
   ]
  },
  {
   "cell_type": "code",
   "execution_count": null,
   "metadata": {},
   "outputs": [],
   "source": [
    "print('Number of researchers found:', len(researchers))"
   ]
  },
  {
   "cell_type": "code",
   "execution_count": null,
   "metadata": {},
   "outputs": [],
   "source": [
    "def get_researcher_record(rid):\n",
    "    researcher_url = 'http://www.sicris.si/public/jqm/rsr.aspx?lang=slv&opdescr=search&opt=2&subopt=300&code1=rsr&code2=&psize=10&hits=1&page=1&count=&search_term={:s}&slng=&order_by='.format(rid)\n",
    "    print(rid, researcher_url)\n",
    "    browser = mechanicalsoup.StatefulBrowser()\n",
    "    browser.open(researcher_url)\n",
    "    links = browser.links('JSON')\n",
    "    browser.follow_link(links[1])\n",
    "    page = browser.get_current_page()\n",
    "    rinfo = json.loads(page.text)\n",
    "    assert len(rinfo) == 1\n",
    "    return rinfo[0]"
   ]
  },
  {
   "cell_type": "code",
   "execution_count": null,
   "metadata": {},
   "outputs": [],
   "source": [
    "print('Retriving data on {:d} researchers'.format(len(researchers)))\n",
    "sicris_data = sicris.get()  # get old data\n",
    "for rid in researchers:  # update with new info and new researcher entries\n",
    "    sicris_data[rid] = get_researcher_record(rid)\n",
    "    sicris_data[rid]['last_update'] = date_prefix\n",
    "    time.sleep(2)"
   ]
  },
  {
   "cell_type": "markdown",
   "metadata": {},
   "source": [
    "Store new data into `json` files `data/stats.json` and `data/sicris.json`."
   ]
  },
  {
   "cell_type": "code",
   "execution_count": null,
   "metadata": {},
   "outputs": [],
   "source": [
    "sicris.update(sicris_data, date_prefix)"
   ]
  },
  {
   "cell_type": "code",
   "execution_count": null,
   "metadata": {},
   "outputs": [],
   "source": [
    "stats.update('researchers', len(researchers), date_prefix)"
   ]
  },
  {
   "cell_type": "code",
   "execution_count": null,
   "metadata": {},
   "outputs": [],
   "source": [
    "print('DONE')"
   ]
  }
 ],
 "metadata": {
  "kernelspec": {
   "display_name": "Python 3",
   "language": "python",
   "name": "python3"
  },
  "language_info": {
   "codemirror_mode": {
    "name": "ipython",
    "version": 3
   },
   "file_extension": ".py",
   "mimetype": "text/x-python",
   "name": "python",
   "nbconvert_exporter": "python",
   "pygments_lexer": "ipython3",
   "version": "3.8.6"
  },
  "latex_envs": {
   "LaTeX_envs_menu_present": true,
   "autocomplete": true,
   "bibliofile": "biblio.bib",
   "cite_by": "apalike",
   "current_citInitial": 1,
   "eqLabelWithNumbers": true,
   "eqNumInitial": 1,
   "hotkeys": {
    "equation": "Ctrl-E",
    "itemize": "Ctrl-I"
   },
   "labels_anchors": false,
   "latex_user_defs": false,
   "report_style_numbering": false,
   "user_envs_cfg": false
  },
  "nbTranslate": {
   "displayLangs": [
    "*"
   ],
   "hotkey": "alt-t",
   "langInMainMenu": true,
   "sourceLang": "en",
   "targetLang": "fr",
   "useGoogleTranslate": true
  }
 },
 "nbformat": 4,
 "nbformat_minor": 2
}
